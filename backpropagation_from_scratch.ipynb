{
  "nbformat": 4,
  "nbformat_minor": 0,
  "metadata": {
    "colab": {
      "provenance": [],
      "toc_visible": true
    },
    "kernelspec": {
      "name": "python3",
      "display_name": "Python 3"
    },
    "language_info": {
      "name": "python"
    }
  },
  "cells": [
    {
      "cell_type": "code",
      "execution_count": null,
      "metadata": {
        "id": "qh7aN9seGwI-"
      },
      "outputs": [],
      "source": [
        "import torch\n",
        "import matplotlib.pyplot as plt\n",
        "import torch.nn.functional as F\n",
        "import random\n",
        "%matplotlib inline"
      ]
    },
    {
      "cell_type": "markdown",
      "source": [
        "- Currently, there are **many deep learning frameworks** that are used to deal with the complexity of gradient calculations"
      ],
      "metadata": {
        "id": "FNG-8aKnHaJe"
      }
    },
    {
      "cell_type": "markdown",
      "source": [
        "- We know that before it was very difficult to train neural networks, but today we have many techniques that we can use to have a more **efficient training**"
      ],
      "metadata": {
        "id": "T1EPQlpSH3dJ"
      }
    },
    {
      "cell_type": "markdown",
      "source": [
        "- Even though we have several techniques and several frameworks available to train neural networks, it is always important to have a **sense of what happens behind the frameworks**, this ensures that we have full control of what we are actually doing ."
      ],
      "metadata": {
        "id": "LvLI2cb4IYWY"
      }
    },
    {
      "cell_type": "code",
      "source": [
        "with open('/content/names.txt',mode='r',encoding='utf-8') as f:\n",
        "  words=f.read().split()"
      ],
      "metadata": {
        "id": "rsTgp-7BKQh1"
      },
      "execution_count": null,
      "outputs": []
    },
    {
      "cell_type": "code",
      "source": [
        "vocab=sorted(set(list(''.join(words))))"
      ],
      "metadata": {
        "id": "TqvHd_8JKVyd"
      },
      "execution_count": null,
      "outputs": []
    },
    {
      "cell_type": "code",
      "source": [
        "# build the vocabulary of characters and mapping to /from integers\n",
        "stoi ={s:i+1 for i , s in enumerate(vocab)}\n",
        "stoi['.']=0\n",
        "# reverse mapping\n",
        "itos={i:s for  s,i in stoi.items()}"
      ],
      "metadata": {
        "id": "j1AvarHdKXzc"
      },
      "execution_count": null,
      "outputs": []
    },
    {
      "cell_type": "code",
      "source": [
        "def build_dataset(words):\n",
        "\n",
        "  X,Y=[],[]\n",
        "\n",
        "  block_size=3\n",
        "  context=[0]*block_size\n",
        "  for w in words:\n",
        "    for ch in w + '.':\n",
        "      ix=stoi[ch]\n",
        "      X.append(context)\n",
        "      Y.append(ix)\n",
        "      context=context[1:] + [ix]\n",
        "\n",
        "  X=torch.tensor(X)\n",
        "  Y=torch.tensor(Y)\n",
        "  print(X.shape,Y.shape)\n",
        "\n",
        "  return X,Y"
      ],
      "metadata": {
        "id": "-Bi-VVjQKZ0P"
      },
      "execution_count": null,
      "outputs": []
    },
    {
      "cell_type": "code",
      "source": [
        "block_size=3"
      ],
      "metadata": {
        "id": "wXil1b_iKdJ7"
      },
      "execution_count": null,
      "outputs": []
    },
    {
      "cell_type": "code",
      "source": [
        "random.seed(42)\n",
        "random.shuffle(words)\n",
        "n1=int(0.8*len(words))\n",
        "n2=int(0.9*len(words))\n",
        "\n",
        "Xtr,Ytr=build_dataset(words[:n1]) #  80%\n",
        "Xdev,Ydev=build_dataset(words[n1:n2]) #  10%\n",
        "Xte,yte=build_dataset(words[n2:]) # 10%"
      ],
      "metadata": {
        "colab": {
          "base_uri": "https://localhost:8080/"
        },
        "id": "iEPn9Tb8Ke8x",
        "outputId": "0d6b152b-2ed7-40e5-8419-8369df4f034c"
      },
      "execution_count": null,
      "outputs": [
        {
          "output_type": "stream",
          "name": "stdout",
          "text": [
            "torch.Size([182625, 3]) torch.Size([182625])\n",
            "torch.Size([22655, 3]) torch.Size([22655])\n",
            "torch.Size([22866, 3]) torch.Size([22866])\n"
          ]
        }
      ]
    },
    {
      "cell_type": "code",
      "source": [
        "n_embed=10\n",
        "n_hidden=200\n",
        "\n",
        "\n",
        "g=torch.Generator().manual_seed(2134563788) # for reproducibility\n",
        "C=torch.randn([len(vocab)+1,n_embed],             generator=g)\n",
        "W1=torch.randn([n_embed * block_size,n_hidden] ,  generator=g) *(5/3) / ((n_embed * block_size)**0.5)  #0.2\n",
        "b1=torch.randn(n_hidden,                          generator=g) *0.01\n",
        "W2=torch.randn([n_hidden,len(vocab)+1],           generator=g)*0.01\n",
        "b2=torch.randn(len(vocab)+1,                      generator=g)*0\n",
        "\n",
        "bngain=torch.ones(1,n_hidden                             )\n",
        "bnbias=torch.zeros(1,n_hidden                            )\n",
        "bnmean_running=torch.zeros(1,n_hidden                    )\n",
        "bnstd_running=torch.zeros(1,n_hidden                     )\n",
        "parameters=[C,W1,b1,W2,b2,bngain,bnbias]\n"
      ],
      "metadata": {
        "id": "x7xoFo6ZKqoq"
      },
      "execution_count": null,
      "outputs": []
    },
    {
      "cell_type": "code",
      "source": [
        "sum(p.nelement() for   p in parameters) # total numbers of parameters"
      ],
      "metadata": {
        "colab": {
          "base_uri": "https://localhost:8080/"
        },
        "id": "a_lIaXu0K0WB",
        "outputId": "dc9362c4-6fe2-4e6b-8c59-9577bd8a1c40"
      },
      "execution_count": null,
      "outputs": [
        {
          "output_type": "execute_result",
          "data": {
            "text/plain": [
              "12297"
            ]
          },
          "metadata": {},
          "execution_count": 9
        }
      ]
    },
    {
      "cell_type": "code",
      "source": [
        "for p  in parameters :\n",
        "  p.requires_grad=True"
      ],
      "metadata": {
        "id": "6RQSyNb7K3YU"
      },
      "execution_count": null,
      "outputs": []
    },
    {
      "cell_type": "code",
      "source": [
        "lossi=[]"
      ],
      "metadata": {
        "id": "L_5TIXTCKuiA"
      },
      "execution_count": null,
      "outputs": []
    },
    {
      "cell_type": "code",
      "source": [
        "batch_size=32\n",
        "max_steps=10000\n",
        "\n",
        "for  i in range(max_steps):\n",
        "\n",
        "  # minibatch construct\n",
        "  ix=torch.randint(0,Xtr.shape[0],(batch_size,),generator=g)\n",
        "  Xb,Yb=Xtr[ix],Ytr[ix] # batch X,Y\n",
        "\n",
        "  # forward pass\n",
        "  emb=C[Xb] # embed the characters into vectors\n",
        "  embcat=emb.view(emb.shape[0],emb.shape[1]*emb.shape[2]) # concatenate the vectors\n",
        "  hpreact=embcat @ W1+b1 #  hidden layer pre - activation\n",
        "  # BatchNorm layer\n",
        "  # ------------------------------------------------------\n",
        "  bnmeani=hpreact.mean(axis=0,keepdim=True)\n",
        "  bnstdi=hpreact.std(axis=0,keepdim=True)\n",
        "  hpreact=bngain*(hpreact-bnmeani) / bnstdi + bnbias\n",
        "\n",
        "  with torch.no_grad():\n",
        "    bnmean_running=0.999 * bnmean_running + 0.001*bnmeani\n",
        "    bnstd_running=0.999 * bnstd_running + 0.001*bnstdi\n",
        "\n",
        "\n",
        "  h=torch.tanh(hpreact) # hidden layer\n",
        "  logits=h @ W2+b2 # output layer\n",
        "  loss=F.cross_entropy(logits,Ytr[Yb]) # loss_funtion\n",
        "  #print(f'loss:{loss.item()},epochs:{i+1}')\n",
        "\n",
        "  for  p in parameters:\n",
        "    p.grad=None\n",
        "\n",
        "  # backward pass\n",
        "  loss.backward()\n",
        "\n",
        "  # update\n",
        "  lr=0 if i  < 10000 else 0.01\n",
        "  for p  in parameters:\n",
        "    p.data+=-lr*p.grad\n",
        "\n",
        "  # strack stats\n",
        "  if i % 1000==0:# print every once in while\n",
        "    print(f'{i:7d}/{max_steps:7d}:{loss.item():.4f}')\n",
        "  lossi.append(loss.log10().item())"
      ],
      "metadata": {
        "colab": {
          "base_uri": "https://localhost:8080/"
        },
        "id": "waZLk6QZK8EF",
        "outputId": "9938602d-87aa-45c2-d3c3-fc1e898b85a0"
      },
      "execution_count": null,
      "outputs": [
        {
          "output_type": "stream",
          "name": "stdout",
          "text": [
            "      0/  10000:3.3009\n",
            "   1000/  10000:3.2686\n",
            "   2000/  10000:3.2939\n",
            "   3000/  10000:3.2873\n",
            "   4000/  10000:3.3110\n",
            "   5000/  10000:3.3164\n",
            "   6000/  10000:3.3180\n",
            "   7000/  10000:3.3078\n",
            "   8000/  10000:3.3183\n",
            "   9000/  10000:3.2980\n"
          ]
        }
      ]
    },
    {
      "cell_type": "code",
      "source": [
        "@torch.no_grad()\n",
        "def  split_loss(split):\n",
        "  x,y={\n",
        "      'train':(Xtr,Ytr),\n",
        "      'val':(Xdev,Ydev),\n",
        "      'test':(Xte,yte),\n",
        "  }[split]\n",
        "\n",
        "  emb=C[x]\n",
        "  embcat=emb.view(emb.shape[0],emb.shape[1]*emb.shape[2])\n",
        "  hpreact=embcat @ W1 + b1\n",
        "  hpreact=bngain*(hpreact-bnmean_running) / bnstd_running + bnbias\n",
        "  h=torch.tanh(hpreact)\n",
        "  logits=h @ W2+ b2\n",
        "  loss=F.cross_entropy(logits,y)\n",
        "  print(split,loss.item())\n",
        "\n",
        "split_loss('train')\n",
        "split_loss('val')"
      ],
      "metadata": {
        "colab": {
          "base_uri": "https://localhost:8080/"
        },
        "id": "-WgO6D76LFPL",
        "outputId": "ce918df0-b497-4991-9180-b83cbc3d85e3"
      },
      "execution_count": null,
      "outputs": [
        {
          "output_type": "stream",
          "name": "stdout",
          "text": [
            "train 3.299492120742798\n",
            "val 3.2995262145996094\n"
          ]
        }
      ]
    },
    {
      "cell_type": "code",
      "source": [
        "plt.hist(h.view(-1).tolist(),50);"
      ],
      "metadata": {
        "colab": {
          "base_uri": "https://localhost:8080/",
          "height": 430
        },
        "id": "xr3qSGLeLbnt",
        "outputId": "b9682c31-5468-4fb0-e67d-7ee4a146455e"
      },
      "execution_count": null,
      "outputs": [
        {
          "output_type": "display_data",
          "data": {
            "text/plain": [
              "<Figure size 640x480 with 1 Axes>"
            ],
            "image/png": "[encoded data removed]"
          },
          "metadata": {}
        }
      ]
    },
    {
      "cell_type": "code",
      "source": [
        "plt.hist(hpreact.view(-1).tolist(),50);"
      ],
      "metadata": {
        "colab": {
          "base_uri": "https://localhost:8080/",
          "height": 430
        },
        "id": "CDWoa0qWLf_W",
        "outputId": "287d3c83-4109-45f8-a3b9-e5c122c1bf43"
      },
      "execution_count": null,
      "outputs": [
        {
          "output_type": "display_data",
          "data": {
            "text/plain": [
              "<Figure size 640x480 with 1 Axes>"
            ],
            "image/png": "[encoded data removed]"
          },
          "metadata": {}
        }
      ]
    },
    {
      "cell_type": "code",
      "source": [
        "plt.figure(figsize=(20,10))\n",
        "plt.imshow(h.abs() > 0.99,cmap='gray',interpolation='nearest')"
      ],
      "metadata": {
        "colab": {
          "base_uri": "https://localhost:8080/",
          "height": 206
        },
        "id": "QolkpFjiLjWi",
        "outputId": "e2644360-3fb9-47e4-cf24-1b853faa9408"
      },
      "execution_count": null,
      "outputs": [
        {
          "output_type": "execute_result",
          "data": {
            "text/plain": [
              "<matplotlib.image.AxesImage at 0x7e52b3d97a00>"
            ]
          },
          "metadata": {},
          "execution_count": 16
        },
        {
          "output_type": "display_data",
          "data": {
            "text/plain": [
              "<Figure size 2000x1000 with 1 Axes>"
            ],
            "image/png": "[encoded data removed]"
          },
          "metadata": {}
        }
      ]
    },
    {
      "cell_type": "code",
      "source": [
        "# utility function we will user later when comparing manual gradients to pytorch gradients\n",
        "def cmp(s,dt,t):\n",
        "  ex=torch.all(dt == t.grad).item()\n",
        "  app=torch.allclose(dt,t.grad)\n",
        "  maxdiff=(dt - t.grad).abs().max().item()\n",
        "  print(f'{s:15s} | exact : {str(ex):5s} | approximate :{str(app):5s} | maxdiff : {maxdiff}')"
      ],
      "metadata": {
        "id": "S37JnRodrEUM"
      },
      "execution_count": null,
      "outputs": []
    },
    {
      "cell_type": "code",
      "source": [
        "n_embed=10\n",
        "n_hidden=200\n",
        "\n",
        "\n",
        "g=torch.Generator().manual_seed(2134563788) # for reproducibility\n",
        "C=torch.randn([len(vocab)+1,n_embed],             generator=g)\n",
        "W1=torch.randn([n_embed * block_size,n_hidden] ,  generator=g) *(5/3) / ((n_embed * block_size)**0.5)  #0.2\n",
        "b1=torch.randn(n_hidden,                          generator=g) *0.01\n",
        "W2=torch.randn([n_hidden,len(vocab)+1],           generator=g)*0.01\n",
        "b2=torch.randn(len(vocab)+1,                      generator=g)*0\n",
        "\n",
        "bngain=torch.ones(1,n_hidden                             )\n",
        "bnbias=torch.zeros(1,n_hidden                            )\n",
        "bnmean_running=torch.zeros(1,n_hidden                    )\n",
        "bnstd_running=torch.zeros(1,n_hidden                     )\n",
        "parameters=[C,W1,b1,W2,b2,bngain,bnbias]\n",
        "for  p  in  parameters:\n",
        "  p.requires_grad = True"
      ],
      "metadata": {
        "id": "NgmNh6kHsCLc"
      },
      "execution_count": null,
      "outputs": []
    },
    {
      "cell_type": "code",
      "source": [
        "# minibatch construct\n",
        "batch_size = 32\n",
        "n = batch_size\n",
        "ix = torch.randint(0,Xtr.shape[0],(batch_size,),generator=g)\n",
        "Xb,Yb = Xtr[ix],Ytr[ix] # batch X,Y"
      ],
      "metadata": {
        "id": "054X1XV5soPh"
      },
      "execution_count": null,
      "outputs": []
    },
    {
      "cell_type": "code",
      "source": [
        "# forward pass , \"chunked\" into smaller steps that are  possible to  backward one at time\n",
        "emb=C[Xb] #embed the characters into vectors\n",
        "embcat=emb.view(emb.shape[0],-1) # concatenate the vectores\n",
        "# Layer 1\n",
        "hprebn=embcat @ W1+ b1\n",
        "# Batchnorm layer\n",
        "bnmeani = 1/n*hprebn.sum(axis=0,keepdim=True)\n",
        "bndiff = hprebn-bnmeani\n",
        "bndiff2 = bndiff**2\n",
        "bnvar = 1/(n-1)*(bndiff2).sum(axis=0,keepdim=True)\n",
        "bnvar_inv = (bnvar + 1e-5)**-0.5\n",
        "bnraw = bndiff * bnvar_inv\n",
        "hpreact = bngain*bnraw + bnbias\n",
        "# Non - linearity\n",
        "h = torch.tanh(hpreact) # hidden layer\n",
        "# Linear layer 2\n",
        "logits = h @ W2+b2 # output layer\n",
        "# cross_entropy loss (same as F.cross_entropy(logits,Yb))\n",
        "logits_maxes = logits.max(1,keepdim=True).values\n",
        "norm_logits = logits - logits_maxes # subtract max for numerical\n",
        "counts = norm_logits.exp()\n",
        "counts_sum = counts.sum(1,keepdims=True)\n",
        "counts_sum_inv = counts_sum**-1\n",
        "probs=counts * counts_sum_inv\n",
        "logprobs=probs.log()\n",
        "loss=-logprobs[range(n),Yb].mean()\n",
        "\n",
        "# Pytorch backward pass\n",
        "\n",
        "for p in parameters:\n",
        "  p.grad = None\n",
        "for t in [logprobs,probs,counts,counts_sum,counts_sum_inv,\n",
        "          norm_logits,logits_maxes,logits,h,hpreact,bnraw,\n",
        "          bnvar,bnvar_inv, bndiff2,bndiff,hprebn,bnmeani,\n",
        "          embcat,emb]:\n",
        "          t.retain_grad()\n",
        "loss.backward()\n",
        "loss"
      ],
      "metadata": {
        "colab": {
          "base_uri": "https://localhost:8080/"
        },
        "id": "45ilnGggs3YC",
        "outputId": "08b69ad2-04da-4f7f-dd10-af2fb87e916c"
      },
      "execution_count": null,
      "outputs": [
        {
          "output_type": "execute_result",
          "data": {
            "text/plain": [
              "tensor(3.2681, grad_fn=<NegBackward0>)"
            ]
          },
          "metadata": {},
          "execution_count": 20
        }
      ]
    },
    {
      "cell_type": "code",
      "source": [
        "bndiff2.shape,bnvar.shape"
      ],
      "metadata": {
        "colab": {
          "base_uri": "https://localhost:8080/"
        },
        "id": "pcQOJU15m8X3",
        "outputId": "784b8b09-4bc8-4ab2-8d65-e0567a925750"
      },
      "execution_count": null,
      "outputs": [
        {
          "output_type": "execute_result",
          "data": {
            "text/plain": [
              "(torch.Size([32, 200]), torch.Size([1, 200]))"
            ]
          },
          "metadata": {},
          "execution_count": 21
        }
      ]
    },
    {
      "cell_type": "markdown",
      "source": [
        "#**1-Backproping the atomic compute graph**"
      ],
      "metadata": {
        "id": "xGjtilzr4669"
      }
    },
    {
      "cell_type": "code",
      "source": [
        " # Exercice 1:backprop  through the whole thing manually,\n",
        " # backpropagation through exatcly all of the variables\n",
        " # as they are defined in the forward pass above , one by one\n",
        "\n",
        "dlogprobs = torch.zeros_like(logprobs)\n",
        "dlogprobs[range(n),Yb] = -1.0/n\n",
        "dprobs = (1.0 / probs) * dlogprobs\n",
        "dcounts_sum_inv = (counts * dprobs).sum(1,keepdim=True)\n",
        "dcounts = counts_sum_inv * dprobs\n",
        "dcounts_sum  = (-counts_sum**-2) * dcounts_sum_inv\n",
        "dcounts += torch.ones_like(counts) * dcounts_sum\n",
        "dnorms_logits = counts * dcounts\n",
        "dlogits=dnorms_logits.clone()\n",
        "dlogits_maxes=(-dnorms_logits).sum(1,keepdims=True)\n",
        "dlogits += F.one_hot(logits.max(1).indices,num_classes = logits.shape[1] ) * dlogits_maxes\n",
        "dh = dlogits @ W2.T\n",
        "dw2 = h.T @ dlogits\n",
        "db2 = dlogits.sum(axis=0)\n",
        "dhpreact = (1.0 -h**2 ) * dh\n",
        "dbgain = (bnraw * dhpreact).sum(0,keepdims=True)\n",
        "dbnraw = bngain * dhpreact\n",
        "dbnbias = dhpreact.sum(0,keepdims=True)\n",
        "dbndiff = bnvar_inv * dbnraw\n",
        "dbnvar_inv = (bndiff * dbnraw).sum(0,keepdim=True)\n",
        "dbnvar = (-0.5*(bnvar + 1e-5)**-1.5) * dbnvar_inv\n",
        "dbndiff2 = (1.0 / (n-1)) * torch.ones_like(bndiff2) * dbnvar\n",
        "dbndiff += (2 * bndiff) * dbndiff2\n",
        "dhprebn = dbndiff.clone()\n",
        "dbmeani = (-dbndiff).sum(0)\n",
        "dhprebn += 1.0/n * (torch.ones_like(hprebn) * dbmeani)\n",
        "dembcat = dhprebn @ W1.T\n",
        "dw1 = embcat.T @ dhprebn\n",
        "db1 = dhprebn.sum(axis=0)\n",
        "demb = dembcat.view(emb.shape)\n",
        "dC = torch.zeros_like(C)\n",
        "for k in range(Xb.shape[0]):\n",
        "  for j in range(Xb.shape[1]):\n",
        "    ix = Xb[k,j]\n",
        "    dC[ix] +=demb[k,j]"
      ],
      "metadata": {
        "id": "uEellInD7k3c"
      },
      "execution_count": null,
      "outputs": []
    },
    {
      "cell_type": "markdown",
      "source": [
        "# **2-Cross entropy loss backward pass**"
      ],
      "metadata": {
        "id": "FJ2Q8XmQ0R-1"
      }
    },
    {
      "cell_type": "code",
      "source": [
        "# backward pass\n",
        "\n",
        "dlogits = F.softmax(logits,1)\n",
        "dlogits[range(n),Yb]-=1\n",
        "dlogits /=n"
      ],
      "metadata": {
        "id": "dsLOa1ZvXE93"
      },
      "execution_count": null,
      "outputs": []
    },
    {
      "cell_type": "code",
      "source": [
        "plt.figure(figsize=(8,8))\n",
        "plt.imshow(dlogits.detach(),cmap = \"gray\")"
      ],
      "metadata": {
        "colab": {
          "base_uri": "https://localhost:8080/",
          "height": 693
        },
        "id": "ZyWQtXEJZXwV",
        "outputId": "87eb71be-96cb-4f68-da50-bfe80c316290"
      },
      "execution_count": null,
      "outputs": [
        {
          "output_type": "execute_result",
          "data": {
            "text/plain": [
              "<matplotlib.image.AxesImage at 0x7e53714bbac0>"
            ]
          },
          "metadata": {},
          "execution_count": 24
        },
        {
          "output_type": "display_data",
          "data": {
            "text/plain": [
              "<Figure size 800x800 with 1 Axes>"
            ],
            "image/png": "[encoded data removed]"
          },
          "metadata": {}
        }
      ]
    },
    {
      "cell_type": "markdown",
      "source": [
        "# **3-Batch norm layer backward pass**"
      ],
      "metadata": {
        "id": "GGFTuQd05Y7l"
      }
    },
    {
      "cell_type": "code",
      "source": [
        "dhprebn = bngain*bnvar_inv/n * (n*dhpreact - dhpreact.sum(0)-n/(n-1)*bnraw*(dhpreact*bnraw).sum(0))\n",
        "dhprebn"
      ],
      "metadata": {
        "colab": {
          "base_uri": "https://localhost:8080/"
        },
        "id": "eeAd0WNN5r7f",
        "outputId": "49831351-73d8-485d-e464-a6359f85c93f"
      },
      "execution_count": null,
      "outputs": [
        {
          "output_type": "execute_result",
          "data": {
            "text/plain": [
              "tensor([[ 1.3234e-05,  2.4389e-05,  2.9211e-05,  ...,  4.6362e-05,\n",
              "          2.7245e-06,  7.4904e-05],\n",
              "        [ 6.0518e-05, -1.0817e-05, -1.3282e-05,  ..., -2.6467e-05,\n",
              "          2.9234e-05, -1.3330e-04],\n",
              "        [ 4.9586e-05, -9.4295e-05, -9.4862e-06,  ...,  9.3103e-05,\n",
              "          8.4356e-05, -5.0623e-05],\n",
              "        ...,\n",
              "        [-1.9664e-04,  1.2976e-05, -4.2005e-05,  ..., -4.3275e-05,\n",
              "         -8.4808e-05,  1.8783e-05],\n",
              "        [ 4.7198e-05, -2.7865e-04, -4.2570e-05,  ...,  9.9280e-05,\n",
              "          1.8484e-04,  7.9528e-05],\n",
              "        [-1.8205e-05, -4.3512e-06,  1.3175e-04,  ...,  1.7871e-05,\n",
              "         -1.1793e-05,  7.5419e-05]], grad_fn=<MulBackward0>)"
            ]
          },
          "metadata": {},
          "execution_count": 27
        }
      ]
    },
    {
      "cell_type": "markdown",
      "source": [
        "#**4-Putting it all together**"
      ],
      "metadata": {
        "id": "DeP8KMnJ4v-W"
      }
    },
    {
      "cell_type": "code",
      "source": [
        "n_embed=10\n",
        "n_hidden=200\n",
        "\n",
        "\n",
        "g=torch.Generator().manual_seed(2134563788) # for reproducibility\n",
        "C=torch.randn([len(vocab)+1,n_embed],             generator=g)\n",
        "W1=torch.randn([n_embed * block_size,n_hidden] ,  generator=g) *(5/3) / ((n_embed * block_size)**0.5)  #0.2\n",
        "b1=torch.randn(n_hidden,                          generator=g) *0.01\n",
        "W2=torch.randn([n_hidden,len(vocab)+1],           generator=g)*0.01\n",
        "b2=torch.randn(len(vocab)+1,                      generator=g)*0\n",
        "\n",
        "bngain=torch.ones(1,n_hidden                             )\n",
        "bnbias=torch.zeros(1,n_hidden                            )\n",
        "bnmean_running=torch.zeros(1,n_hidden                    )\n",
        "bnstd_running=torch.zeros(1,n_hidden                     )\n",
        "parameters=[C,W1,b1,W2,b2,bngain,bnbias]\n",
        "\n",
        "for  p  in  parameters:\n",
        "  p.requires_grad = True\n",
        "\n",
        "# minibatch construct\n",
        "batch_size = 32\n",
        "n = batch_size\n",
        "ix = torch.randint(0,Xtr.shape[0],(batch_size,),generator=g)\n",
        "Xb,Yb = Xtr[ix],Ytr[ix] # batch X,Y\n",
        "\n",
        "\n",
        "\n",
        "batch_size=32\n",
        "max_steps=30000\n",
        "\n",
        "for  i in range(max_steps):\n",
        "\n",
        "  # minibatch construct\n",
        "  ix=torch.randint(0,Xtr.shape[0],(batch_size,),generator=g)\n",
        "  Xb,Yb=Xtr[ix],Ytr[ix] # batch X,Y\n",
        "\n",
        "  # forward pass\n",
        "  emb=C[Xb] # embed the characters into vectors\n",
        "  embcat=emb.view(emb.shape[0],emb.shape[1]*emb.shape[2]) # concatenate the vectors\n",
        "  hpreact=embcat @ W1+b1 #  hidden layer pre - activation\n",
        "  # BatchNorm layer\n",
        "  # ------------------------------------------------------\n",
        "  bnmeani=hpreact.mean(axis=0,keepdim=True)\n",
        "  bnstdi=hpreact.std(axis=0,keepdim=True)\n",
        "  hpreact=bngain*(hpreact-bnmeani) / bnstdi + bnbias\n",
        "  h=torch.tanh(hpreact) # hidden layer\n",
        "  logits=h @ W2+b2 # output layer\n",
        "  loss=F.cross_entropy(logits,Ytr[Yb]) # loss_funtion\n",
        "  #print(f'loss:{loss.item()},epochs:{i+1}')\n",
        "\n",
        "  for  p in parameters:\n",
        "    p.grad=None\n",
        "\n",
        "  # backward pass\n",
        "  loss.backward() # use this for correctness comparisons , delete it later\n",
        "\n",
        "  # manual backprop !\n",
        "\n",
        "  # =====================\n",
        "  dC,dW1,db1,dW2,db2,dbgain,dbnbias = None, None, None, None, None, None, None\n",
        "  grads=[dC,dW1,db1,dW2,db2,dbgain,dbnbias]\n",
        "  #-------------------------\n",
        "\n",
        "  # update\n",
        "  lr=0 if i  < 10000 else 0.01\n",
        "  for p,grad in zip(parameters,grads):\n",
        "    p.data+=-lr*p.grad\n",
        "\n",
        "  # strack stats\n",
        "  if i % 1000 == 0:# print every once in while\n",
        "    print(f'{i:7d}/{max_steps:7d}:{loss.item():.4f}')\n",
        "  lossi.append(loss.log10().item())"
      ],
      "metadata": {
        "colab": {
          "base_uri": "https://localhost:8080/"
        },
        "id": "HvPfDBd66uB0",
        "outputId": "3fc01b91-bcf9-4ad0-f0d2-e13662298f1d"
      },
      "execution_count": null,
      "outputs": [
        {
          "output_type": "stream",
          "name": "stdout",
          "text": [
            "      0/  30000:3.2901\n",
            "   1000/  30000:3.3001\n",
            "   2000/  30000:3.2737\n",
            "   3000/  30000:3.2920\n",
            "   4000/  30000:3.3171\n",
            "   5000/  30000:3.3267\n",
            "   6000/  30000:3.2867\n",
            "   7000/  30000:3.2830\n",
            "   8000/  30000:3.2960\n",
            "   9000/  30000:3.3024\n",
            "  10000/  30000:3.2971\n",
            "  11000/  30000:2.7539\n",
            "  12000/  30000:2.2512\n",
            "  13000/  30000:2.2827\n",
            "  14000/  30000:2.1635\n",
            "  15000/  30000:2.1103\n",
            "  16000/  30000:2.0355\n",
            "  17000/  30000:2.0626\n",
            "  18000/  30000:2.1539\n",
            "  19000/  30000:2.3251\n",
            "  20000/  30000:2.1976\n",
            "  21000/  30000:1.8791\n",
            "  22000/  30000:2.0602\n",
            "  23000/  30000:1.9115\n",
            "  24000/  30000:1.8518\n",
            "  25000/  30000:1.8880\n",
            "  26000/  30000:2.0821\n",
            "  27000/  30000:2.0353\n",
            "  28000/  30000:2.0162\n",
            "  29000/  30000:1.8841\n"
          ]
        }
      ]
    },
    {
      "cell_type": "code",
      "source": [
        " # calibrate the batch norm at the end of training\n",
        "\n",
        "\n",
        "with torch.no_grad():\n",
        "  # pass the training set through\n",
        "  emb = C[Xtr]\n",
        "  embcat = emb.view(emb.shape[0],-1)\n",
        "  hpreact = embcat @ W1 + b1\n",
        "  bnmean = hpreact.mean(0,keepdim = True)\n",
        "  bnvar = hpreact.var(0,keepdim = True,unbiased = True)"
      ],
      "metadata": {
        "id": "VF6u0gx68zy5"
      },
      "execution_count": null,
      "outputs": []
    },
    {
      "cell_type": "code",
      "source": [
        "# evaluate train and val loss\n",
        "\n",
        "@torch.no_grad()\n",
        "def split_loss(split):\n",
        "  x,y = {\n",
        "      \"train\":(Xtr,Ytr),\n",
        "       \"val\":(Xdev,Ydev),\n",
        "       \"test\":(Xte,yte),\n",
        "  }[split]\n",
        "  emb = C[x]\n",
        "  embcat = emb.view(emb.shape[0],-1)\n",
        "  hpreact = embcat @ W1 + b1\n",
        "  hpreact = bngain * (hpreact - bnmean) * (bnvar  + 1e-5)**0.5 + bnbias\n",
        "  h = torch.tanh(hpreact)\n",
        "  logits = h @ W2 + b2\n",
        "  loss = F.cross_entropy(logits,y)\n",
        "  print(split,loss.item())\n",
        "\n",
        "split_loss('train')\n",
        "split_loss('val')\n",
        "split_loss('test')"
      ],
      "metadata": {
        "colab": {
          "base_uri": "https://localhost:8080/"
        },
        "id": "PStOALsw9kyB",
        "outputId": "6d63941d-27cb-493b-9e46-dadf2b345301"
      },
      "execution_count": null,
      "outputs": [
        {
          "output_type": "stream",
          "name": "stdout",
          "text": [
            "train 3.301647424697876\n",
            "val 3.3016700744628906\n",
            "test 3.30075740814209\n"
          ]
        }
      ]
    }
  ]
}